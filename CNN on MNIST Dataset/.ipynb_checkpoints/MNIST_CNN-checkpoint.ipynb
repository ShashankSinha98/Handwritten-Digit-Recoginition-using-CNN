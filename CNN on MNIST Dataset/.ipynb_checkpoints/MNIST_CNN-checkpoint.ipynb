{
 "cells": [
  {
   "cell_type": "code",
   "execution_count": null,
   "metadata": {
    "colab": {},
    "colab_type": "code",
    "id": "gut50OLaMRhM"
   },
   "outputs": [],
   "source": [
    "from tensorflow.python.keras.layers import *\n",
    "from tensorflow.python.keras.models import Sequential"
   ]
  },
  {
   "cell_type": "markdown",
   "metadata": {
    "colab_type": "text",
    "id": "amIYZUaiMRhV"
   },
   "source": [
    "## Building Model"
   ]
  },
  {
   "cell_type": "code",
   "execution_count": 0,
   "metadata": {
    "colab": {},
    "colab_type": "code",
    "id": "Dw1HhUg_MRhV"
   },
   "outputs": [],
   "source": [
    "model = Sequential()\n",
    "model.add(Conv2D(32,(3,3),activation='relu',input_shape=(28,28,1)))\n",
    "model.add(MaxPool2D((2,2)))\n",
    "model.add(Conv2D(64,(3,3),activation='relu'))\n",
    "model.add(MaxPool2D((2,2)))\n",
    "model.add(Conv2D(64,(3,3),activation='relu'))\n",
    "model.add(Flatten())\n",
    "model.add(Dense(64,activation='relu'))\n",
    "model.add(Dense(10,activation='softmax'))"
   ]
  },
  {
   "cell_type": "code",
   "execution_count": 3,
   "metadata": {
    "colab": {
     "base_uri": "https://localhost:8080/",
     "height": 425
    },
    "colab_type": "code",
    "id": "Utjf_K5tMRhY",
    "outputId": "6c1d436b-0061-45f2-ef3f-d159f579eabc"
   },
   "outputs": [
    {
     "name": "stdout",
     "output_type": "stream",
     "text": [
      "Model: \"sequential\"\n",
      "_________________________________________________________________\n",
      "Layer (type)                 Output Shape              Param #   \n",
      "=================================================================\n",
      "conv2d (Conv2D)              (None, 26, 26, 32)        320       \n",
      "_________________________________________________________________\n",
      "max_pooling2d (MaxPooling2D) (None, 13, 13, 32)        0         \n",
      "_________________________________________________________________\n",
      "conv2d_1 (Conv2D)            (None, 11, 11, 64)        18496     \n",
      "_________________________________________________________________\n",
      "max_pooling2d_1 (MaxPooling2 (None, 5, 5, 64)          0         \n",
      "_________________________________________________________________\n",
      "conv2d_2 (Conv2D)            (None, 3, 3, 64)          36928     \n",
      "_________________________________________________________________\n",
      "flatten (Flatten)            (None, 576)               0         \n",
      "_________________________________________________________________\n",
      "dense (Dense)                (None, 64)                36928     \n",
      "_________________________________________________________________\n",
      "dense_1 (Dense)              (None, 10)                650       \n",
      "=================================================================\n",
      "Total params: 93,322\n",
      "Trainable params: 93,322\n",
      "Non-trainable params: 0\n",
      "_________________________________________________________________\n"
     ]
    }
   ],
   "source": [
    "model.summary()"
   ]
  },
  {
   "cell_type": "markdown",
   "metadata": {
    "colab_type": "text",
    "id": "DNdy8_YaMRhc"
   },
   "source": [
    "## Importing Dataset"
   ]
  },
  {
   "cell_type": "code",
   "execution_count": 4,
   "metadata": {
    "colab": {
     "base_uri": "https://localhost:8080/",
     "height": 34
    },
    "colab_type": "code",
    "id": "PX0gg-ISMRhc",
    "outputId": "1dc0b10d-df0f-4d19-dafe-66ab92b97981"
   },
   "outputs": [
    {
     "name": "stderr",
     "output_type": "stream",
     "text": [
      "Using TensorFlow backend.\n"
     ]
    }
   ],
   "source": [
    "from keras.datasets import mnist\n",
    "from keras.utils import to_categorical"
   ]
  },
  {
   "cell_type": "code",
   "execution_count": 5,
   "metadata": {
    "colab": {
     "base_uri": "https://localhost:8080/",
     "height": 51
    },
    "colab_type": "code",
    "id": "d1ncCeygMRhg",
    "outputId": "f45078ad-51a4-4ca5-9697-15706aa50668"
   },
   "outputs": [
    {
     "name": "stdout",
     "output_type": "stream",
     "text": [
      "Downloading data from https://s3.amazonaws.com/img-datasets/mnist.npz\n",
      "11493376/11490434 [==============================] - 0s 0us/step\n"
     ]
    }
   ],
   "source": [
    "(X_Train,Y_Train),(X_Test,Y_Test) = mnist.load_data()"
   ]
  },
  {
   "cell_type": "code",
   "execution_count": 0,
   "metadata": {
    "colab": {},
    "colab_type": "code",
    "id": "JQkAkTkCMRhn"
   },
   "outputs": [],
   "source": [
    "def preprocess_data(X,Y):\n",
    "    X = X.reshape((-1,28,28,1))\n",
    "    X = X/255.0\n",
    "    Y = to_categorical(Y)\n",
    "    return X,Y"
   ]
  },
  {
   "cell_type": "code",
   "execution_count": 7,
   "metadata": {
    "colab": {
     "base_uri": "https://localhost:8080/",
     "height": 34
    },
    "colab_type": "code",
    "id": "8lrEYLN1MRhq",
    "outputId": "9c982c64-3579-488c-b9fb-f2da49b839ae"
   },
   "outputs": [
    {
     "name": "stdout",
     "output_type": "stream",
     "text": [
      "(60000, 28, 28, 1) (60000, 10)\n"
     ]
    }
   ],
   "source": [
    "X_Train, Y_Train = preprocess_data(X_Train,Y_Train)\n",
    "print(X_Train.shape,Y_Train.shape)"
   ]
  },
  {
   "cell_type": "code",
   "execution_count": 8,
   "metadata": {
    "colab": {
     "base_uri": "https://localhost:8080/",
     "height": 34
    },
    "colab_type": "code",
    "id": "7cXfwHFMMRhs",
    "outputId": "57b47bb2-a3f7-41f1-ed98-3e6f2c454329"
   },
   "outputs": [
    {
     "name": "stdout",
     "output_type": "stream",
     "text": [
      "(10000, 28, 28, 1) (10000, 10)\n"
     ]
    }
   ],
   "source": [
    "X_Test, Y_Test = preprocess_data(X_Test,Y_Test)\n",
    "print(X_Test.shape,Y_Test.shape)"
   ]
  },
  {
   "cell_type": "markdown",
   "metadata": {
    "colab_type": "text",
    "id": "W4c-_mwJMRhw"
   },
   "source": [
    "## Compiling Model"
   ]
  },
  {
   "cell_type": "code",
   "execution_count": 0,
   "metadata": {
    "colab": {},
    "colab_type": "code",
    "id": "qpvojPfVMRhx"
   },
   "outputs": [],
   "source": [
    "model.compile(optimizer='adam',loss='categorical_crossentropy',metrics=['accuracy'])"
   ]
  },
  {
   "cell_type": "code",
   "execution_count": 10,
   "metadata": {
    "colab": {
     "base_uri": "https://localhost:8080/",
     "height": 697
    },
    "colab_type": "code",
    "id": "u-hpuoOfMRh1",
    "outputId": "10a7aa21-e9c3-46fd-f102-f75f56f66e3c"
   },
   "outputs": [
    {
     "name": "stdout",
     "output_type": "stream",
     "text": [
      "Epoch 1/20\n",
      "422/422 [==============================] - 41s 98ms/step - loss: 0.3011 - accuracy: 0.9079 - val_loss: 0.0718 - val_accuracy: 0.9812\n",
      "Epoch 2/20\n",
      "422/422 [==============================] - 41s 97ms/step - loss: 0.0676 - accuracy: 0.9794 - val_loss: 0.0489 - val_accuracy: 0.9870\n",
      "Epoch 3/20\n",
      "422/422 [==============================] - 41s 97ms/step - loss: 0.0487 - accuracy: 0.9847 - val_loss: 0.0410 - val_accuracy: 0.9877\n",
      "Epoch 4/20\n",
      "422/422 [==============================] - 41s 97ms/step - loss: 0.0354 - accuracy: 0.9892 - val_loss: 0.0406 - val_accuracy: 0.9880\n",
      "Epoch 5/20\n",
      "422/422 [==============================] - 41s 97ms/step - loss: 0.0297 - accuracy: 0.9907 - val_loss: 0.0359 - val_accuracy: 0.9907\n",
      "Epoch 6/20\n",
      "422/422 [==============================] - 41s 97ms/step - loss: 0.0241 - accuracy: 0.9924 - val_loss: 0.0326 - val_accuracy: 0.9912\n",
      "Epoch 7/20\n",
      "422/422 [==============================] - 40s 96ms/step - loss: 0.0196 - accuracy: 0.9933 - val_loss: 0.0370 - val_accuracy: 0.9907\n",
      "Epoch 8/20\n",
      "422/422 [==============================] - 40s 96ms/step - loss: 0.0167 - accuracy: 0.9942 - val_loss: 0.0318 - val_accuracy: 0.9915\n",
      "Epoch 9/20\n",
      "422/422 [==============================] - 40s 96ms/step - loss: 0.0144 - accuracy: 0.9952 - val_loss: 0.0393 - val_accuracy: 0.9912\n",
      "Epoch 10/20\n",
      "422/422 [==============================] - 40s 96ms/step - loss: 0.0139 - accuracy: 0.9952 - val_loss: 0.0474 - val_accuracy: 0.9888\n",
      "Epoch 11/20\n",
      "422/422 [==============================] - 40s 95ms/step - loss: 0.0108 - accuracy: 0.9964 - val_loss: 0.0320 - val_accuracy: 0.9925\n",
      "Epoch 12/20\n",
      "422/422 [==============================] - 40s 96ms/step - loss: 0.0089 - accuracy: 0.9971 - val_loss: 0.0430 - val_accuracy: 0.9903\n",
      "Epoch 13/20\n",
      "422/422 [==============================] - 40s 96ms/step - loss: 0.0076 - accuracy: 0.9972 - val_loss: 0.0451 - val_accuracy: 0.9910\n",
      "Epoch 14/20\n",
      "422/422 [==============================] - 40s 96ms/step - loss: 0.0092 - accuracy: 0.9970 - val_loss: 0.0411 - val_accuracy: 0.9918\n",
      "Epoch 15/20\n",
      "422/422 [==============================] - 40s 96ms/step - loss: 0.0085 - accuracy: 0.9972 - val_loss: 0.0396 - val_accuracy: 0.9917\n",
      "Epoch 16/20\n",
      "422/422 [==============================] - 40s 95ms/step - loss: 0.0064 - accuracy: 0.9979 - val_loss: 0.0483 - val_accuracy: 0.9898\n",
      "Epoch 17/20\n",
      "422/422 [==============================] - 40s 96ms/step - loss: 0.0056 - accuracy: 0.9982 - val_loss: 0.0417 - val_accuracy: 0.9928\n",
      "Epoch 18/20\n",
      "422/422 [==============================] - 40s 96ms/step - loss: 0.0053 - accuracy: 0.9983 - val_loss: 0.0502 - val_accuracy: 0.9890\n",
      "Epoch 19/20\n",
      "422/422 [==============================] - 40s 96ms/step - loss: 0.0060 - accuracy: 0.9979 - val_loss: 0.0444 - val_accuracy: 0.9915\n",
      "Epoch 20/20\n",
      "422/422 [==============================] - 41s 96ms/step - loss: 0.0062 - accuracy: 0.9978 - val_loss: 0.0375 - val_accuracy: 0.9925\n"
     ]
    }
   ],
   "source": [
    "hist = model.fit(X_Train,Y_Train,epochs=20,validation_split=0.1,batch_size=128)"
   ]
  },
  {
   "cell_type": "code",
   "execution_count": 0,
   "metadata": {
    "colab": {},
    "colab_type": "code",
    "id": "X5bpY-1CMRiB",
    "outputId": "3b245ed6-5fbb-432a-d5a9-934e3193cf74"
   },
   "outputs": [
    {
     "name": "stdout",
     "output_type": "stream",
     "text": [
      "(1, 28, 28, 1)\n"
     ]
    }
   ],
   "source": [
    "#import numpy as np\n",
    "#arr = []\n",
    "#arr.append(X_Test[0])\n",
    "#nparr = np.array(arr)\n",
    "#print(nparr.shape)\n",
    "#pred = model.predict_classes(nparr)"
   ]
  },
  {
   "cell_type": "code",
   "execution_count": 0,
   "metadata": {
    "colab": {},
    "colab_type": "code",
    "id": "CKhcvMSNMRiE",
    "outputId": "6187a9b3-9a91-4fcb-b96d-5e4bb0d65a98"
   },
   "outputs": [
    {
     "name": "stdout",
     "output_type": "stream",
     "text": [
      "[7]\n"
     ]
    }
   ],
   "source": [
    "#print(pred)"
   ]
  },
  {
   "cell_type": "code",
   "execution_count": 0,
   "metadata": {
    "colab": {},
    "colab_type": "code",
    "id": "4EQASOr5MRiH",
    "outputId": "7c094862-d40a-4b0f-c506-e0b079a85097"
   },
   "outputs": [
    {
     "data": {
      "image/png": "[encoded data removed]",
      "text/plain": [
       "<Figure size 432x288 with 1 Axes>"
      ]
     },
     "metadata": {
      "needs_background": "light",
      "tags": []
     },
     "output_type": "display_data"
    }
   ],
   "source": [
    "#import matplotlib.pyplot as plt\n",
    "#plt.imshow(X_Test[1].reshape(28,28),cmap='gray')\n",
    "#plt.show()"
   ]
  },
  {
   "cell_type": "code",
   "execution_count": 0,
   "metadata": {
    "colab": {},
    "colab_type": "code",
    "id": "lUe0jMegMRiK"
   },
   "outputs": [],
   "source": [
    "import tensorflow as tf"
   ]
  },
  {
   "cell_type": "code",
   "execution_count": 0,
   "metadata": {
    "colab": {},
    "colab_type": "code",
    "id": "APT_LudNMRiM",
    "outputId": "471f14f3-0815-4ff8-d75a-8279b1f4c8a0"
   },
   "outputs": [
    {
     "name": "stdout",
     "output_type": "stream",
     "text": [
      "WARNING:tensorflow:From c:\\python\\python38\\lib\\site-packages\\tensorflow\\python\\ops\\resource_variable_ops.py:1813: calling BaseResourceVariable.__init__ (from tensorflow.python.ops.resource_variable_ops) with constraint is deprecated and will be removed in a future version.\n",
      "Instructions for updating:\n",
      "If using Keras pass *_constraint arguments to layers.\n",
      "INFO:tensorflow:Assets written to: MNIST CNN Model\\assets\n"
     ]
    }
   ],
   "source": [
    "keras_file = \"MNIST CNN Model\"\n",
    "model.save(keras_file)"
   ]
  },
  {
   "cell_type": "code",
   "execution_count": 0,
   "metadata": {
    "colab": {},
    "colab_type": "code",
    "id": "w4xgG0ykMRiO"
   },
   "outputs": [],
   "source": [
    "converter = tf.lite.TFLiteConverter.from_saved_model(keras_file)"
   ]
  },
  {
   "cell_type": "code",
   "execution_count": 0,
   "metadata": {
    "colab": {},
    "colab_type": "code",
    "id": "EeUGIs2iMRiS"
   },
   "outputs": [],
   "source": [
    "tflite_model = converter.convert()"
   ]
  },
  {
   "cell_type": "code",
   "execution_count": 0,
   "metadata": {
    "colab": {},
    "colab_type": "code",
    "id": "G466Lx0DMRiU",
    "outputId": "0b202735-50b3-4e14-cf8a-f502115510fd"
   },
   "outputs": [
    {
     "data": {
      "text/plain": [
       "377804"
      ]
     },
     "execution_count": 48,
     "metadata": {
      "tags": []
     },
     "output_type": "execute_result"
    }
   ],
   "source": [
    "open('mnist_cnn.tflite','wb').write(tflite_model)"
   ]
  },
  {
   "cell_type": "code",
   "execution_count": 0,
   "metadata": {
    "colab": {},
    "colab_type": "code",
    "id": "4xU-Rz6kMRiX"
   },
   "outputs": [],
   "source": []
  }
 ],
 "metadata": {
  "colab": {
   "name": "MNIST CNN.ipynb",
   "provenance": []
  },
  "kernelspec": {
   "display_name": "Python 3",
   "language": "python",
   "name": "python3"
  },
  "language_info": {
   "codemirror_mode": {
    "name": "ipython",
    "version": 3
   },
   "file_extension": ".py",
   "mimetype": "text/x-python",
   "name": "python",
   "nbconvert_exporter": "python",
   "pygments_lexer": "ipython3",
   "version": "3.8.1"
  }
 },
 "nbformat": 4,
 "nbformat_minor": 1
}
