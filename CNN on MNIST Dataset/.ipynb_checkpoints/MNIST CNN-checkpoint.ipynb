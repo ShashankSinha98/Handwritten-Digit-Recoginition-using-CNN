{
 "cells": [
  {
   "cell_type": "code",
   "execution_count": 33,
   "metadata": {},
   "outputs": [],
   "source": [
    "from tensorflow.python.keras.layers import *\n",
    "from tensorflow.python.keras.models import Sequential"
   ]
  },
  {
   "cell_type": "markdown",
   "metadata": {},
   "source": [
    "## Building Model"
   ]
  },
  {
   "cell_type": "code",
   "execution_count": 34,
   "metadata": {},
   "outputs": [],
   "source": [
    "model = Sequential()\n",
    "model.add(Conv2D(32,(3,3),activation='relu',input_shape=(28,28,1)))\n",
    "model.add(MaxPool2D((2,2)))\n",
    "model.add(Conv2D(64,(3,3),activation='relu'))\n",
    "model.add(MaxPool2D((2,2)))\n",
    "model.add(Conv2D(64,(3,3),activation='relu'))\n",
    "model.add(Flatten())\n",
    "model.add(Dense(64,activation='relu'))\n",
    "model.add(Dense(10,activation='softmax'))"
   ]
  },
  {
   "cell_type": "code",
   "execution_count": 35,
   "metadata": {},
   "outputs": [
    {
     "name": "stdout",
     "output_type": "stream",
     "text": [
      "Model: \"sequential\"\n",
      "_________________________________________________________________\n",
      "Layer (type)                 Output Shape              Param #   \n",
      "=================================================================\n",
      "conv2d (Conv2D)              (None, 26, 26, 32)        320       \n",
      "_________________________________________________________________\n",
      "max_pooling2d (MaxPooling2D) (None, 13, 13, 32)        0         \n",
      "_________________________________________________________________\n",
      "conv2d_1 (Conv2D)            (None, 11, 11, 64)        18496     \n",
      "_________________________________________________________________\n",
      "max_pooling2d_1 (MaxPooling2 (None, 5, 5, 64)          0         \n",
      "_________________________________________________________________\n",
      "conv2d_2 (Conv2D)            (None, 3, 3, 64)          36928     \n",
      "_________________________________________________________________\n",
      "flatten (Flatten)            (None, 576)               0         \n",
      "_________________________________________________________________\n",
      "dense (Dense)                (None, 64)                36928     \n",
      "_________________________________________________________________\n",
      "dense_1 (Dense)              (None, 10)                650       \n",
      "=================================================================\n",
      "Total params: 93,322\n",
      "Trainable params: 93,322\n",
      "Non-trainable params: 0\n",
      "_________________________________________________________________\n"
     ]
    }
   ],
   "source": [
    "model.summary()"
   ]
  },
  {
   "cell_type": "markdown",
   "metadata": {},
   "source": [
    "## Importing Dataset"
   ]
  },
  {
   "cell_type": "code",
   "execution_count": 36,
   "metadata": {},
   "outputs": [],
   "source": [
    "from keras.datasets import mnist\n",
    "from keras.utils import to_categorical"
   ]
  },
  {
   "cell_type": "code",
   "execution_count": 37,
   "metadata": {},
   "outputs": [],
   "source": [
    "(X_Train,Y_Train),(X_Test,Y_Test) = mnist.load_data()"
   ]
  },
  {
   "cell_type": "code",
   "execution_count": 38,
   "metadata": {},
   "outputs": [],
   "source": [
    "def preprocess_data(X,Y):\n",
    "    X = X.reshape((-1,28,28,1))\n",
    "    X = X/255.0\n",
    "    Y = to_categorical(Y)\n",
    "    return X,Y"
   ]
  },
  {
   "cell_type": "code",
   "execution_count": 39,
   "metadata": {},
   "outputs": [
    {
     "name": "stdout",
     "output_type": "stream",
     "text": [
      "(60000, 28, 28, 1) (60000, 10)\n"
     ]
    }
   ],
   "source": [
    "X_Train, Y_Train = preprocess_data(X_Train,Y_Train)\n",
    "print(X_Train.shape,Y_Train.shape)"
   ]
  },
  {
   "cell_type": "code",
   "execution_count": 40,
   "metadata": {},
   "outputs": [
    {
     "name": "stdout",
     "output_type": "stream",
     "text": [
      "(10000, 28, 28, 1) (10000, 10)\n"
     ]
    }
   ],
   "source": [
    "X_Test, Y_Test = preprocess_data(X_Test,Y_Test)\n",
    "print(X_Test.shape,Y_Test.shape)"
   ]
  },
  {
   "cell_type": "markdown",
   "metadata": {},
   "source": [
    "## Compiling Model"
   ]
  },
  {
   "cell_type": "code",
   "execution_count": 41,
   "metadata": {},
   "outputs": [],
   "source": [
    "model.compile(optimizer='adam',loss='categorical_crossentropy',metrics=['accuracy'])"
   ]
  },
  {
   "cell_type": "code",
   "execution_count": 42,
   "metadata": {},
   "outputs": [
    {
     "name": "stdout",
     "output_type": "stream",
     "text": [
      "Epoch 1/20\n",
      "422/422 [==============================] - 45s 107ms/step - loss: 0.2656 - accuracy: 0.9213 - val_loss: 0.0647 - val_accuracy: 0.9818\n",
      "Epoch 2/20\n",
      "422/422 [==============================] - 42s 99ms/step - loss: 0.0632 - accuracy: 0.9804 - val_loss: 0.0485 - val_accuracy: 0.9862\n",
      "Epoch 3/20\n",
      "422/422 [==============================] - 39s 92ms/step - loss: 0.0444 - accuracy: 0.9864 - val_loss: 0.0389 - val_accuracy: 0.9900\n",
      "Epoch 4/20\n",
      "422/422 [==============================] - 38s 89ms/step - loss: 0.0326 - accuracy: 0.9894 - val_loss: 0.0393 - val_accuracy: 0.9893\n",
      "Epoch 5/20\n",
      "422/422 [==============================] - 39s 91ms/step - loss: 0.0271 - accuracy: 0.9919 - val_loss: 0.0399 - val_accuracy: 0.9898\n",
      "Epoch 6/20\n",
      "422/422 [==============================] - 39s 93ms/step - loss: 0.0230 - accuracy: 0.9926 - val_loss: 0.0334 - val_accuracy: 0.9908\n",
      "Epoch 7/20\n",
      "422/422 [==============================] - 48s 115ms/step - loss: 0.0180 - accuracy: 0.9944 - val_loss: 0.0435 - val_accuracy: 0.9897\n",
      "Epoch 8/20\n",
      "422/422 [==============================] - 41s 98ms/step - loss: 0.0168 - accuracy: 0.9943 - val_loss: 0.0325 - val_accuracy: 0.9925\n",
      "Epoch 9/20\n",
      "422/422 [==============================] - 40s 94ms/step - loss: 0.0126 - accuracy: 0.9959 - val_loss: 0.0350 - val_accuracy: 0.9938\n",
      "Epoch 10/20\n",
      "422/422 [==============================] - 40s 94ms/step - loss: 0.0112 - accuracy: 0.9961 - val_loss: 0.0395 - val_accuracy: 0.9918\n",
      "Epoch 11/20\n",
      "422/422 [==============================] - 40s 95ms/step - loss: 0.0120 - accuracy: 0.9958 - val_loss: 0.0337 - val_accuracy: 0.9923\n",
      "Epoch 12/20\n",
      "422/422 [==============================] - 40s 95ms/step - loss: 0.0070 - accuracy: 0.9977 - val_loss: 0.0388 - val_accuracy: 0.9920\n",
      "Epoch 13/20\n",
      "422/422 [==============================] - 40s 95ms/step - loss: 0.0090 - accuracy: 0.9969 - val_loss: 0.0428 - val_accuracy: 0.9930\n",
      "Epoch 14/20\n",
      "422/422 [==============================] - 42s 99ms/step - loss: 0.0087 - accuracy: 0.9969 - val_loss: 0.0447 - val_accuracy: 0.9907\n",
      "Epoch 15/20\n",
      "422/422 [==============================] - 41s 97ms/step - loss: 0.0068 - accuracy: 0.9976 - val_loss: 0.0400 - val_accuracy: 0.9913\n",
      "Epoch 16/20\n",
      "422/422 [==============================] - 41s 97ms/step - loss: 0.0079 - accuracy: 0.9976 - val_loss: 0.0358 - val_accuracy: 0.9925\n",
      "Epoch 17/20\n",
      "422/422 [==============================] - 41s 98ms/step - loss: 0.0045 - accuracy: 0.9985 - val_loss: 0.0441 - val_accuracy: 0.9920\n",
      "Epoch 18/20\n",
      "422/422 [==============================] - 41s 98ms/step - loss: 0.0074 - accuracy: 0.9975 - val_loss: 0.0461 - val_accuracy: 0.9895\n",
      "Epoch 19/20\n",
      "422/422 [==============================] - 40s 96ms/step - loss: 0.0049 - accuracy: 0.9981 - val_loss: 0.0530 - val_accuracy: 0.9918\n",
      "Epoch 20/20\n",
      "422/422 [==============================] - 40s 95ms/step - loss: 0.0065 - accuracy: 0.9977 - val_loss: 0.0435 - val_accuracy: 0.9923\n"
     ]
    }
   ],
   "source": [
    "hist = model.fit(X_Train,Y_Train,epochs=20,validation_split=0.1,batch_size=128)"
   ]
  },
  {
   "cell_type": "code",
   "execution_count": 43,
   "metadata": {},
   "outputs": [
    {
     "name": "stdout",
     "output_type": "stream",
     "text": [
      "313/313 [==============================] - 2s 7ms/step - loss: 0.0284 - accuracy: 0.9921\n"
     ]
    },
    {
     "data": {
      "text/plain": [
       "[0.02841028943657875, 0.9921000003814697]"
      ]
     },
     "execution_count": 43,
     "metadata": {},
     "output_type": "execute_result"
    }
   ],
   "source": [
    "model.evaluate(X_Test,Y_Test)"
   ]
  },
  {
   "cell_type": "code",
   "execution_count": 27,
   "metadata": {},
   "outputs": [
    {
     "name": "stdout",
     "output_type": "stream",
     "text": [
      "(1, 28, 28, 1)\n"
     ]
    }
   ],
   "source": [
    "#import numpy as np\n",
    "#arr = []\n",
    "#arr.append(X_Test[0])\n",
    "#nparr = np.array(arr)\n",
    "#print(nparr.shape)\n",
    "#pred = model.predict_classes(nparr)"
   ]
  },
  {
   "cell_type": "code",
   "execution_count": 29,
   "metadata": {},
   "outputs": [
    {
     "name": "stdout",
     "output_type": "stream",
     "text": [
      "[7]\n"
     ]
    }
   ],
   "source": [
    "#print(pred)"
   ]
  },
  {
   "cell_type": "code",
   "execution_count": 24,
   "metadata": {},
   "outputs": [
    {
     "data": {
      "image/png": "[encoded data removed]",
      "text/plain": [
       "<Figure size 432x288 with 1 Axes>"
      ]
     },
     "metadata": {
      "needs_background": "light"
     },
     "output_type": "display_data"
    }
   ],
   "source": [
    "#import matplotlib.pyplot as plt\n",
    "#plt.imshow(X_Test[1].reshape(28,28),cmap='gray')\n",
    "#plt.show()"
   ]
  },
  {
   "cell_type": "code",
   "execution_count": 44,
   "metadata": {},
   "outputs": [],
   "source": [
    "import tensorflow as tf"
   ]
  },
  {
   "cell_type": "code",
   "execution_count": 45,
   "metadata": {},
   "outputs": [
    {
     "name": "stdout",
     "output_type": "stream",
     "text": [
      "WARNING:tensorflow:From c:\\python\\python38\\lib\\site-packages\\tensorflow\\python\\ops\\resource_variable_ops.py:1813: calling BaseResourceVariable.__init__ (from tensorflow.python.ops.resource_variable_ops) with constraint is deprecated and will be removed in a future version.\n",
      "Instructions for updating:\n",
      "If using Keras pass *_constraint arguments to layers.\n",
      "INFO:tensorflow:Assets written to: MNIST CNN Model\\assets\n"
     ]
    }
   ],
   "source": [
    "keras_file = \"MNIST CNN Model\"\n",
    "model.save(keras_file)"
   ]
  },
  {
   "cell_type": "code",
   "execution_count": 46,
   "metadata": {},
   "outputs": [],
   "source": [
    "converter = tf.lite.TFLiteConverter.from_saved_model(keras_file)"
   ]
  },
  {
   "cell_type": "code",
   "execution_count": 47,
   "metadata": {},
   "outputs": [],
   "source": [
    "tflite_model = converter.convert()"
   ]
  },
  {
   "cell_type": "code",
   "execution_count": 48,
   "metadata": {},
   "outputs": [
    {
     "data": {
      "text/plain": [
       "377804"
      ]
     },
     "execution_count": 48,
     "metadata": {},
     "output_type": "execute_result"
    }
   ],
   "source": [
    "open('mnist_cnn.tflite','wb').write(tflite_model)"
   ]
  },
  {
   "cell_type": "code",
   "execution_count": null,
   "metadata": {},
   "outputs": [],
   "source": []
  }
 ],
 "metadata": {
  "kernelspec": {
   "display_name": "Python 3",
   "language": "python",
   "name": "python3"
  },
  "language_info": {
   "codemirror_mode": {
    "name": "ipython",
    "version": 3
   },
   "file_extension": ".py",
   "mimetype": "text/x-python",
   "name": "python",
   "nbconvert_exporter": "python",
   "pygments_lexer": "ipython3",
   "version": "3.8.1"
  }
 },
 "nbformat": 4,
 "nbformat_minor": 4
}
